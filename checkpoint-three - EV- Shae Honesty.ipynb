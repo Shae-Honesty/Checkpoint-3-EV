{
 "cells": [
  {
   "attachments": {},
   "cell_type": "markdown",
   "metadata": {
    "azdata_cell_guid": "26037d32-2047-4157-81ef-595916bd66a0"
   },
   "source": [
    "# Checkpoint Three: Cleaning Data\n",
    "\n",
    "Now you are ready to clean your data. Before starting coding, provide the link to your dataset below.\n",
    "\n",
    "My dataset:\n",
    "\n",
    "Import the necessary libraries and create your dataframe(s)."
   ]
  },
  {
   "cell_type": "code",
   "execution_count": 24,
   "metadata": {
    "azdata_cell_guid": "e8adef8e-d0f2-4640-a179-5997f11e82ca"
   },
   "outputs": [],
   "source": [
    "# import libraries\n",
    "import pandas as pd\n",
    "import numpy as np\n",
    "import matplotlib.pyplot as plt\n",
    "\n",
    "# bring in dataset csv\n",
    "df_WAEV = pd.read_csv(r\"C:\\Users\\sqroo\\Desktop\\DA\\Final Project\\Electric_Vehicle_Population_Data (2).csv\")\n",
    "\n"
   ]
  },
  {
   "cell_type": "markdown",
   "metadata": {
    "azdata_cell_guid": "e172475a-c4ee-414a-8367-9965355dbba6"
   },
   "source": [
    "## Missing Data\n",
    "\n",
    "Test your dataset for missing data and handle it as needed. Make notes in the form of code comments as to your thought process."
   ]
  },
  {
   "cell_type": "code",
   "execution_count": 25,
   "metadata": {
    "azdata_cell_guid": "e1dc66ef-e471-4c27-92e7-ee878c106eba"
   },
   "outputs": [
    {
     "name": "stdout",
     "output_type": "stream",
     "text": [
      "<class 'pandas.core.frame.DataFrame'>\n",
      "RangeIndex: 210165 entries, 0 to 210164\n",
      "Data columns (total 17 columns):\n",
      " #   Column                                             Non-Null Count   Dtype  \n",
      "---  ------                                             --------------   -----  \n",
      " 0   VIN (1-10)                                         210165 non-null  object \n",
      " 1   County                                             210161 non-null  object \n",
      " 2   City                                               210161 non-null  object \n",
      " 3   State                                              210165 non-null  object \n",
      " 4   Postal Code                                        210161 non-null  float64\n",
      " 5   Model Year                                         210165 non-null  int64  \n",
      " 6   Make                                               210165 non-null  object \n",
      " 7   Model                                              210165 non-null  object \n",
      " 8   Electric Vehicle Type                              210165 non-null  object \n",
      " 9   Clean Alternative Fuel Vehicle (CAFV) Eligibility  210165 non-null  object \n",
      " 10  Electric Range                                     210160 non-null  float64\n",
      " 11  Base MSRP                                          210160 non-null  float64\n",
      " 12  Legislative District                               209720 non-null  float64\n",
      " 13  DOL Vehicle ID                                     210165 non-null  int64  \n",
      " 14  Vehicle Location                                   210155 non-null  object \n",
      " 15  Electric Utility                                   210161 non-null  object \n",
      " 16  2020 Census Tract                                  210161 non-null  float64\n",
      "dtypes: float64(5), int64(2), object(10)\n",
      "memory usage: 27.3+ MB\n",
      "0         0.0\n",
      "1         0.0\n",
      "2         0.0\n",
      "3         0.0\n",
      "4         0.0\n",
      "         ... \n",
      "210160    0.0\n",
      "210161    0.0\n",
      "210162    0.0\n",
      "210163    0.0\n",
      "210164    0.0\n",
      "Name: Base MSRP, Length: 210165, dtype: float64\n",
      "Base MSRP\n",
      "0.0         206851\n",
      "69900.0       1334\n",
      "31950.0        367\n",
      "52900.0        221\n",
      "32250.0        142\n",
      "59900.0        129\n",
      "54950.0        123\n",
      "39995.0        115\n",
      "36900.0        102\n",
      "44100.0         99\n",
      "64950.0         89\n",
      "45600.0         82\n",
      "33950.0         72\n",
      "52650.0         70\n",
      "34995.0         66\n",
      "55700.0         55\n",
      "36800.0         54\n",
      "53400.0         40\n",
      "81100.0         24\n",
      "110950.0        21\n",
      "98950.0         21\n",
      "90700.0         18\n",
      "102000.0        13\n",
      "75095.0         11\n",
      "184400.0        10\n",
      "43700.0          9\n",
      "89100.0          8\n",
      "109000.0         6\n",
      "91250.0          4\n",
      "32995.0          3\n",
      "845000.0         1\n",
      "Name: count, dtype: int64\n"
     ]
    }
   ],
   "source": [
    "df_WAEV.describe\n",
    "df_WAEV.info()\n",
    "df_WAEV.head()\n",
    "print(df_WAEV['Base MSRP'])\n",
    "WAEV_MSRP_count = df_WAEV.value_counts('Base MSRP')\n",
    "print(WAEV_MSRP_count)\n",
    "# 206851 of the 210165 columns dont provide the MSRP therefore this column does not contain enough pertant information. "
   ]
  },
  {
   "cell_type": "code",
   "execution_count": 26,
   "metadata": {},
   "outputs": [
    {
     "name": "stdout",
     "output_type": "stream",
     "text": [
      "VIN (1-10)                                             0\n",
      "County                                                 4\n",
      "City                                                   4\n",
      "State                                                  0\n",
      "Postal Code                                            4\n",
      "Model Year                                             0\n",
      "Make                                                   0\n",
      "Model                                                  0\n",
      "Electric Vehicle Type                                  0\n",
      "Clean Alternative Fuel Vehicle (CAFV) Eligibility      0\n",
      "Electric Range                                         5\n",
      "Base MSRP                                              5\n",
      "Legislative District                                 445\n",
      "DOL Vehicle ID                                         0\n",
      "Vehicle Location                                      10\n",
      "Electric Utility                                       4\n",
      "2020 Census Tract                                      4\n",
      "dtype: int64\n",
      "Numner of duplicated Columns 0\n"
     ]
    }
   ],
   "source": [
    "# check for null and duplicates\n",
    "WAEV_null_counts = df_WAEV.isnull().sum()\n",
    "print(WAEV_null_counts)\n",
    "#  Not a signifigant amount of null values in any of the columns\n",
    "WAEV_dups =df_WAEV.duplicated().sum()\n",
    "print('Numner of duplicated Columns', WAEV_dups)\n",
    "# There are no duplicated columns"
   ]
  },
  {
   "cell_type": "markdown",
   "metadata": {
    "azdata_cell_guid": "1233f543-e9a0-4f78-96f5-d7536554102e"
   },
   "source": [
    "## Irregular Data\n",
    "\n",
    "Detect outliers in your dataset and handle them as needed. Use code comments to make notes about your thought process."
   ]
  },
  {
   "cell_type": "code",
   "execution_count": null,
   "metadata": {
    "azdata_cell_guid": "efed50ae-16f0-471d-98e2-632553a74c12"
   },
   "outputs": [],
   "source": [
    "# print(df_WAEV['Clean Alternative Fuel Vehicle (CAFV) Eligibility'])\n",
    "WAEV_CAFV_counts = df_WAEV.value_counts('Clean Alternative Fuel Vehicle (CAFV) Eligibility')\n",
    "# print(WAEV_CAFV_counts)\n",
    "WAEV_range = df_WAEV['Electric Range']\n",
    "# print(WAEV_range)\n",
    "WAEV_range_count = df_WAEV['Electric Range'].value_counts()\n",
    "print(WAEV_range_count)\n",
    "# More than half of the range counts are not noted and many do not qualify as a Clean Alternative Fuel Vehicle as the range is too low. "
   ]
  },
  {
   "cell_type": "markdown",
   "metadata": {
    "azdata_cell_guid": "6f5b8ee0-bab3-44bc-958a-67d1e4c0407f"
   },
   "source": [
    "## Unnecessary Data\n",
    "\n",
    "Look for the different types of unnecessary data in your dataset and address it as needed. Make sure to use code comments to illustrate your thought process."
   ]
  },
  {
   "cell_type": "code",
   "execution_count": 35,
   "metadata": {
    "azdata_cell_guid": "e788a239-2fbf-41de-9bd3-19e52e3b187c"
   },
   "outputs": [
    {
     "name": "stdout",
     "output_type": "stream",
     "text": [
      "Index(['VIN (1-10)', 'County', 'City', 'State', 'Postal Code', 'Model Year',\n",
      "       'Make', 'Model', 'Electric Vehicle Type',\n",
      "       'Clean Alternative Fuel Vehicle (CAFV) Eligibility', 'Electric Range',\n",
      "       'Base MSRP', 'Legislative District', 'DOL Vehicle ID',\n",
      "       'Vehicle Location', 'Electric Utility', '2020 Census Tract'],\n",
      "      dtype='object')\n"
     ]
    }
   ],
   "source": [
    "# Unneccessary Data Columns\n",
    "# delete unnecessaray columns\n",
    "# deleteing columns that are irrelevant to out findings\n",
    "cols_df_WAEV = df_WAEV.drop(columns=['VIN (1-10)', 'Legislative District', 'DOL Vehicle ID', 'Base MSRP'])\n",
    "# checking deleted columns\n",
    "cols_df_WAEV = df_WAEV.columns\n",
    "print(cols_df_WAEV)"
   ]
  },
  {
   "cell_type": "markdown",
   "metadata": {
    "azdata_cell_guid": "53e0cf94-c68a-4fa0-9849-9505a66bcce6"
   },
   "source": [
    "## Inconsistent Data\n",
    "\n",
    "Check for inconsistent data and address any that arises. As always, use code comments to illustrate your thought process."
   ]
  },
  {
   "cell_type": "code",
   "execution_count": null,
   "metadata": {
    "azdata_cell_guid": "e9de6624-812a-43f8-8e20-93b4a49b091f"
   },
   "outputs": [
    {
     "name": "stdout",
     "output_type": "stream",
     "text": [
      "        VIN (1-10)     County            City State  Postal Code  Model Year  \\\n",
      "1       5YJ3E1EB1J     Kitsap         Poulsbo    WA      98370.0        2018   \n",
      "3       5YJ3E1EB5J     Kitsap       Bremerton    WA      98310.0        2018   \n",
      "4       1N4AZ1CP3K       King         Redmond    WA      98052.0        2019   \n",
      "5       3FA6P0PU5F  Snohomish         Bothell    WA      98012.0        2015   \n",
      "6       5YJYGDEEXL       King          Renton    WA      98055.0        2020   \n",
      "...            ...        ...             ...   ...          ...         ...   \n",
      "210151  2C4RC1S73R    Spokane  Spokane Valley    WA      99212.0        2024   \n",
      "210153  1G1FZ6S07L   San Juan    Lopez Island    WA      98261.0        2020   \n",
      "210154  KM8K23AGXL       King         Seattle    WA      98103.0        2020   \n",
      "210158  7SAYGDEFXN   Kittitas        Cle Elum    WA      98922.0        2022   \n",
      "210164  7SAYGDEE0P    Spokane         Spokane    WA      99208.0        2023   \n",
      "\n",
      "             Make     Model                   Electric Vehicle Type  \\\n",
      "1           TESLA   MODEL 3          Battery Electric Vehicle (BEV)   \n",
      "3           TESLA   MODEL 3          Battery Electric Vehicle (BEV)   \n",
      "4          NISSAN      LEAF          Battery Electric Vehicle (BEV)   \n",
      "5            FORD    FUSION  Plug-in Hybrid Electric Vehicle (PHEV)   \n",
      "6           TESLA   MODEL Y          Battery Electric Vehicle (BEV)   \n",
      "...           ...       ...                                     ...   \n",
      "210151   CHRYSLER  PACIFICA  Plug-in Hybrid Electric Vehicle (PHEV)   \n",
      "210153  CHEVROLET   BOLT EV          Battery Electric Vehicle (BEV)   \n",
      "210154    HYUNDAI      KONA          Battery Electric Vehicle (BEV)   \n",
      "210158      TESLA   MODEL Y          Battery Electric Vehicle (BEV)   \n",
      "210164      TESLA   MODEL Y          Battery Electric Vehicle (BEV)   \n",
      "\n",
      "        Clean Alternative Fuel Vehicle (CAFV) Eligibility  Electric Range  \\\n",
      "1                 Clean Alternative Fuel Vehicle Eligible           215.0   \n",
      "3                 Clean Alternative Fuel Vehicle Eligible           215.0   \n",
      "4                 Clean Alternative Fuel Vehicle Eligible           150.0   \n",
      "5                   Not eligible due to low battery range            19.0   \n",
      "6                 Clean Alternative Fuel Vehicle Eligible           291.0   \n",
      "...                                                   ...             ...   \n",
      "210151            Clean Alternative Fuel Vehicle Eligible            32.0   \n",
      "210153            Clean Alternative Fuel Vehicle Eligible           259.0   \n",
      "210154            Clean Alternative Fuel Vehicle Eligible           258.0   \n",
      "210158  Eligibility unknown as battery range has not b...             0.0   \n",
      "210164  Eligibility unknown as battery range has not b...             0.0   \n",
      "\n",
      "        Base MSRP  Legislative District  DOL Vehicle ID  \\\n",
      "1             0.0                  23.0       475911439   \n",
      "3             0.0                  23.0       474363746   \n",
      "4             0.0                  45.0       476346482   \n",
      "5             0.0                  21.0         9620047   \n",
      "6             0.0                  11.0       124565731   \n",
      "...           ...                   ...             ...   \n",
      "210151        0.0                   4.0       269426545   \n",
      "210153        0.0                  40.0       192490203   \n",
      "210154        0.0                  43.0       241649292   \n",
      "210158        0.0                  13.0       263304688   \n",
      "210164        0.0                   6.0       241306740   \n",
      "\n",
      "                       Vehicle Location  \\\n",
      "1       POINT (-122.6368884 47.7469547)   \n",
      "3       POINT (-122.6231895 47.5930874)   \n",
      "4           POINT (-122.13158 47.67858)   \n",
      "5         POINT (-122.206146 47.839957)   \n",
      "6       POINT (-122.2003346 47.4487206)   \n",
      "...                                 ...   \n",
      "210151    POINT (-117.308052 47.667462)   \n",
      "210153  POINT (-122.8826643 48.5053168)   \n",
      "210154   POINT (-122.3499053 47.673887)   \n",
      "210158  POINT (-120.9347811 47.1944758)   \n",
      "210164  POINT (-117.4268937 47.7323627)   \n",
      "\n",
      "                                         Electric Utility  2020 Census Tract  \n",
      "1                                  PUGET SOUND ENERGY INC       5.303509e+10  \n",
      "3                                  PUGET SOUND ENERGY INC       5.303508e+10  \n",
      "4           PUGET SOUND ENERGY INC||CITY OF TACOMA - (WA)       5.303303e+10  \n",
      "5                                  PUGET SOUND ENERGY INC       5.306104e+10  \n",
      "6           PUGET SOUND ENERGY INC||CITY OF TACOMA - (WA)       5.303303e+10  \n",
      "...                                                   ...                ...  \n",
      "210151  BONNEVILLE POWER ADMINISTRATION||VERA IRRIGATI...       5.306301e+10  \n",
      "210153  BONNEVILLE POWER ADMINISTRATION||ORCAS POWER &...       5.305596e+10  \n",
      "210154       CITY OF SEATTLE - (WA)|CITY OF TACOMA - (WA)       5.303300e+10  \n",
      "210158                             PUGET SOUND ENERGY INC       5.303798e+10  \n",
      "210164  BONNEVILLE POWER ADMINISTRATION||AVISTA CORP||...       5.306301e+10  \n",
      "\n",
      "[54675 rows x 17 columns]\n"
     ]
    }
   ],
   "source": [
    "# WAEV_dups =df_WAEV.duplicated().sum()\n",
    "# print('Numner of duplicated Columns', WAEV_dups)\n",
    "# # There are no duplicated columns\n",
    "# print(df_WAEV.dtypes)\n",
    "\n",
    "# Checking numerical values\n",
    "numerical_cols = df_WAEV.select_dtypes(include=['number']).columns\n",
    "# IQR for each numeric column\n",
    "Q1 = df_WAEV[numerical_cols].quantile(0.25)\n",
    "Q3 = df_WAEV[numerical_cols].quantile(0.75)\n",
    "IQR = Q3 - Q1\n",
    "# Outlier threshold (1.5 * IQR)\n",
    "outliers = (df_WAEV[numerical_cols] < (Q1 - 1.5 * IQR)) | (df_WAEV[numerical_cols] > (Q3 + 1.5 * IQR))\n",
    "outlier_rows = df_WAEV[outliers.any(axis=1)]\n",
    "print(outlier_rows)\n",
    "# None of the worries listed show concern of outliers"
   ]
  },
  {
   "cell_type": "markdown",
   "metadata": {
    "azdata_cell_guid": "dedc0bfe-17d0-40b2-914f-2ddb54f9ce0d"
   },
   "source": [
    "## Summarize Your Results\n",
    "\n",
    "Make note of your answers to the following questions.\n",
    "\n",
    "1. Did you find all four types of dirty data in your dataset?\n",
    "2. Did the process of cleaning your data give you new insights into your dataset?\n",
    "3. Is there anything you would like to make note of when it comes to manipulating the data and making visualizations?"
   ]
  }
 ],
 "metadata": {
  "kernelspec": {
   "display_name": "Python 3",
   "language": "python",
   "name": "python3"
  },
  "language_info": {
   "codemirror_mode": {
    "name": "ipython",
    "version": 3
   },
   "file_extension": ".py",
   "mimetype": "text/x-python",
   "name": "python",
   "nbconvert_exporter": "python",
   "pygments_lexer": "ipython3",
   "version": "3.12.3"
  }
 },
 "nbformat": 4,
 "nbformat_minor": 2
}
